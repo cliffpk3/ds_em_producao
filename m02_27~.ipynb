{
 "cells": [
  {
   "cell_type": "code",
   "execution_count": 1,
   "id": "5e3b55e9",
   "metadata": {},
   "outputs": [
    {
     "name": "stderr",
     "output_type": "stream",
     "text": [
      "/home/carli/anaconda3/envs/ds_em_producao/lib/python3.9/site-packages/xgboost/compat.py:36: FutureWarning: pandas.Int64Index is deprecated and will be removed from pandas in a future version. Use pandas.Index with the appropriate dtype instead.\n",
      "  from pandas import MultiIndex, Int64Index\n"
     ]
    }
   ],
   "source": [
    "import pandas as pd\n",
    "import numpy as np\n",
    "import matplotlib.pyplot as plt\n",
    "import math\n",
    "import datetime\n",
    "from IPython.display import Image\n",
    "from sklearn.metrics import mean_absolute_error, mean_absolute_percentage_error, mean_squared_error\n",
    "from sklearn.linear_model import LinearRegression, Lasso\n",
    "from sklearn.ensemble import RandomForestRegressor\n",
    "import xgboost as xgb\n",
    "import warnings\n",
    "warnings.simplefilter(action='ignore', category=FutureWarning)"
   ]
  },
  {
   "cell_type": "code",
   "execution_count": 2,
   "id": "ec323752",
   "metadata": {},
   "outputs": [
    {
     "data": {
      "text/html": [
       "<div>\n",
       "<style scoped>\n",
       "    .dataframe tbody tr th:only-of-type {\n",
       "        vertical-align: middle;\n",
       "    }\n",
       "\n",
       "    .dataframe tbody tr th {\n",
       "        vertical-align: top;\n",
       "    }\n",
       "\n",
       "    .dataframe thead th {\n",
       "        text-align: right;\n",
       "    }\n",
       "</style>\n",
       "<table border=\"1\" class=\"dataframe\">\n",
       "  <thead>\n",
       "    <tr style=\"text-align: right;\">\n",
       "      <th></th>\n",
       "      <th>store</th>\n",
       "      <th>date</th>\n",
       "      <th>sales</th>\n",
       "      <th>promo</th>\n",
       "      <th>school_holiday</th>\n",
       "      <th>store_type</th>\n",
       "      <th>assortment</th>\n",
       "      <th>competition_distance</th>\n",
       "      <th>competition_open_since_month</th>\n",
       "      <th>competition_open_since_year</th>\n",
       "      <th>...</th>\n",
       "      <th>state_holiday_public holiday</th>\n",
       "      <th>state_holiday_regular_day</th>\n",
       "      <th>day_of_week_sin</th>\n",
       "      <th>day_of_week_cos</th>\n",
       "      <th>month_sin</th>\n",
       "      <th>month_cos</th>\n",
       "      <th>day_sin</th>\n",
       "      <th>day_cos</th>\n",
       "      <th>week_of_year_sin</th>\n",
       "      <th>week_of_year_cos</th>\n",
       "    </tr>\n",
       "  </thead>\n",
       "  <tbody>\n",
       "    <tr>\n",
       "      <th>43879</th>\n",
       "      <td>257</td>\n",
       "      <td>2015-06-16</td>\n",
       "      <td>8.688622</td>\n",
       "      <td>1</td>\n",
       "      <td>0</td>\n",
       "      <td>0</td>\n",
       "      <td>1</td>\n",
       "      <td>-0.308065</td>\n",
       "      <td>12</td>\n",
       "      <td>2012</td>\n",
       "      <td>...</td>\n",
       "      <td>0</td>\n",
       "      <td>1</td>\n",
       "      <td>0.974928</td>\n",
       "      <td>-0.222521</td>\n",
       "      <td>1.224647e-16</td>\n",
       "      <td>-1.000000</td>\n",
       "      <td>-2.079117e-01</td>\n",
       "      <td>-0.978148</td>\n",
       "      <td>0.120537</td>\n",
       "      <td>-0.992709</td>\n",
       "    </tr>\n",
       "    <tr>\n",
       "      <th>562681</th>\n",
       "      <td>4</td>\n",
       "      <td>2013-10-30</td>\n",
       "      <td>8.962007</td>\n",
       "      <td>0</td>\n",
       "      <td>0</td>\n",
       "      <td>2</td>\n",
       "      <td>3</td>\n",
       "      <td>-0.275806</td>\n",
       "      <td>9</td>\n",
       "      <td>2009</td>\n",
       "      <td>...</td>\n",
       "      <td>0</td>\n",
       "      <td>1</td>\n",
       "      <td>0.433884</td>\n",
       "      <td>-0.900969</td>\n",
       "      <td>-8.660254e-01</td>\n",
       "      <td>0.500000</td>\n",
       "      <td>-2.449294e-16</td>\n",
       "      <td>1.000000</td>\n",
       "      <td>-0.822984</td>\n",
       "      <td>0.568065</td>\n",
       "    </tr>\n",
       "    <tr>\n",
       "      <th>239643</th>\n",
       "      <td>593</td>\n",
       "      <td>2014-11-05</td>\n",
       "      <td>9.117348</td>\n",
       "      <td>1</td>\n",
       "      <td>0</td>\n",
       "      <td>0</td>\n",
       "      <td>3</td>\n",
       "      <td>4.956452</td>\n",
       "      <td>3</td>\n",
       "      <td>2010</td>\n",
       "      <td>...</td>\n",
       "      <td>0</td>\n",
       "      <td>1</td>\n",
       "      <td>0.433884</td>\n",
       "      <td>-0.900969</td>\n",
       "      <td>-5.000000e-01</td>\n",
       "      <td>0.866025</td>\n",
       "      <td>8.660254e-01</td>\n",
       "      <td>0.500000</td>\n",
       "      <td>-0.748511</td>\n",
       "      <td>0.663123</td>\n",
       "    </tr>\n",
       "    <tr>\n",
       "      <th>689976</th>\n",
       "      <td>1026</td>\n",
       "      <td>2013-06-19</td>\n",
       "      <td>8.965973</td>\n",
       "      <td>1</td>\n",
       "      <td>0</td>\n",
       "      <td>2</td>\n",
       "      <td>1</td>\n",
       "      <td>-0.303226</td>\n",
       "      <td>6</td>\n",
       "      <td>2011</td>\n",
       "      <td>...</td>\n",
       "      <td>0</td>\n",
       "      <td>1</td>\n",
       "      <td>0.433884</td>\n",
       "      <td>-0.900969</td>\n",
       "      <td>1.224647e-16</td>\n",
       "      <td>-1.000000</td>\n",
       "      <td>-7.431448e-01</td>\n",
       "      <td>-0.669131</td>\n",
       "      <td>0.120537</td>\n",
       "      <td>-0.992709</td>\n",
       "    </tr>\n",
       "    <tr>\n",
       "      <th>397240</th>\n",
       "      <td>19</td>\n",
       "      <td>2014-04-28</td>\n",
       "      <td>9.215029</td>\n",
       "      <td>1</td>\n",
       "      <td>0</td>\n",
       "      <td>0</td>\n",
       "      <td>3</td>\n",
       "      <td>0.146774</td>\n",
       "      <td>4</td>\n",
       "      <td>2014</td>\n",
       "      <td>...</td>\n",
       "      <td>0</td>\n",
       "      <td>1</td>\n",
       "      <td>0.781831</td>\n",
       "      <td>0.623490</td>\n",
       "      <td>8.660254e-01</td>\n",
       "      <td>-0.500000</td>\n",
       "      <td>-4.067366e-01</td>\n",
       "      <td>0.913545</td>\n",
       "      <td>0.822984</td>\n",
       "      <td>-0.568065</td>\n",
       "    </tr>\n",
       "  </tbody>\n",
       "</table>\n",
       "<p>5 rows × 29 columns</p>\n",
       "</div>"
      ],
      "text/plain": [
       "        store       date     sales  promo  school_holiday  store_type  \\\n",
       "43879     257 2015-06-16  8.688622      1               0           0   \n",
       "562681      4 2013-10-30  8.962007      0               0           2   \n",
       "239643    593 2014-11-05  9.117348      1               0           0   \n",
       "689976   1026 2013-06-19  8.965973      1               0           2   \n",
       "397240     19 2014-04-28  9.215029      1               0           0   \n",
       "\n",
       "        assortment  competition_distance  competition_open_since_month  \\\n",
       "43879            1             -0.308065                            12   \n",
       "562681           3             -0.275806                             9   \n",
       "239643           3              4.956452                             3   \n",
       "689976           1             -0.303226                             6   \n",
       "397240           3              0.146774                             4   \n",
       "\n",
       "        competition_open_since_year  ...  state_holiday_public holiday  \\\n",
       "43879                          2012  ...                             0   \n",
       "562681                         2009  ...                             0   \n",
       "239643                         2010  ...                             0   \n",
       "689976                         2011  ...                             0   \n",
       "397240                         2014  ...                             0   \n",
       "\n",
       "        state_holiday_regular_day  day_of_week_sin  day_of_week_cos  \\\n",
       "43879                           1         0.974928        -0.222521   \n",
       "562681                          1         0.433884        -0.900969   \n",
       "239643                          1         0.433884        -0.900969   \n",
       "689976                          1         0.433884        -0.900969   \n",
       "397240                          1         0.781831         0.623490   \n",
       "\n",
       "           month_sin  month_cos       day_sin   day_cos  week_of_year_sin  \\\n",
       "43879   1.224647e-16  -1.000000 -2.079117e-01 -0.978148          0.120537   \n",
       "562681 -8.660254e-01   0.500000 -2.449294e-16  1.000000         -0.822984   \n",
       "239643 -5.000000e-01   0.866025  8.660254e-01  0.500000         -0.748511   \n",
       "689976  1.224647e-16  -1.000000 -7.431448e-01 -0.669131          0.120537   \n",
       "397240  8.660254e-01  -0.500000 -4.067366e-01  0.913545          0.822984   \n",
       "\n",
       "        week_of_year_cos  \n",
       "43879          -0.992709  \n",
       "562681          0.568065  \n",
       "239643          0.663123  \n",
       "689976         -0.992709  \n",
       "397240         -0.568065  \n",
       "\n",
       "[5 rows x 29 columns]"
      ]
     },
     "execution_count": 2,
     "metadata": {},
     "output_type": "execute_result"
    }
   ],
   "source": [
    "df6 = pd.read_csv('df6.csv')\n",
    "df6['date'] = pd.to_datetime(df6['date'])\n",
    "df6 = df6.sample(int(len(df6)*0.5), random_state=42)\n",
    "df6.head(5)"
   ]
  },
  {
   "cell_type": "markdown",
   "id": "ae992c39",
   "metadata": {},
   "source": [
    "# 7. MODELAÇÃO DE APRENDIZADO DE MÁQUINA"
   ]
  },
  {
   "cell_type": "code",
   "execution_count": 3,
   "id": "63ea9607",
   "metadata": {},
   "outputs": [],
   "source": [
    "def ml_error(model_name, y_test, yhat):\n",
    "    mae = (np.sum(np.abs(np.expm1(y_test) - np.expm1(yhat))))/len(np.expm1(yhat))\n",
    "    mape = np.sum(np.abs(np.expm1(y_test) - np.expm1(yhat))/np.expm1(yhat))/len(yhat)\n",
    "    rmse = np.sqrt((np.sum((np.expm1(y_test) - np.expm1(yhat))**2))/len(np.expm1(yhat)))\n",
    "    \n",
    "    return {'Model name': model_name,\n",
    "            'MAE': mae,\n",
    "            'MAPE': mape,\n",
    "            'RMSE': rmse}\n",
    "\n",
    "def cross_validation(X_train, kfold, model):\n",
    "    l_mae = []\n",
    "    l_mape = []\n",
    "    l_rmse = []\n",
    "\n",
    "    for k in range(kfold,0,-1):\n",
    "        start_validation = X_train['date'].max() - datetime.timedelta(days=6*7*k)\n",
    "        end_validation = X_train['date'].max() - datetime.timedelta(days=6*7*(k-1))\n",
    "        print(f'Start validation on {start_validation} and end at {end_validation}')\n",
    "        \n",
    "        train = X_train[X_train['date'] < start_validation]\n",
    "        validation = X_train[(X_train['date'] >= start_validation) & (X_train['date'] <= end_validation)]\n",
    "        \n",
    "        X_train_temp = train.drop(['date','sales'], axis=1)\n",
    "        y_train_temp = train['sales']\n",
    "        \n",
    "        X_test_temp = validation.drop(['date','sales'], axis=1)\n",
    "        y_test_temp = validation['sales']\n",
    "        \n",
    "        m = model.fit(X_train_temp, y_train_temp)\n",
    "        \n",
    "        yhat = m.predict(X_test_temp)\n",
    "        \n",
    "        m_result = ml_error(model, y_test_temp, yhat)\n",
    "        \n",
    "        mae = (np.sum(np.abs(np.expm1(y_test_temp) - np.expm1(yhat))))/len(np.expm1(yhat))\n",
    "        l_mae.append(mae)\n",
    "        mape = np.sum(np.abs(np.expm1(y_test_temp) - np.expm1(yhat))/np.expm1(yhat))/len(yhat)\n",
    "        l_mape.append(mape)\n",
    "        rmse = np.sqrt((np.sum((np.expm1(y_test_temp) - np.expm1(yhat))**2))/len(np.expm1(yhat)))\n",
    "        l_rmse.append(rmse)\n",
    "           \n",
    "    return {'Model Name':model,\n",
    "            'MAE CV':np.round(np.mean(l_mae),2).astype(str) + ' +/- ' + np.round(np.std(l_mae),2).astype(str),\n",
    "            'MAPE CV':np.round(np.mean(l_mape),2).astype(str) + ' +/- ' + np.round(np.std(l_mape),2).astype(str),\n",
    "            'RMSE CV':np.round(np.mean(l_rmse),2).astype(str) + ' +/- ' + np.round(np.std(l_rmse),2).astype(str)}"
   ]
  },
  {
   "cell_type": "code",
   "execution_count": 4,
   "id": "f94bf16c",
   "metadata": {},
   "outputs": [],
   "source": [
    "X_train = df6[df6['date'] < '2015-06-19']\n",
    "y_train = X_train['sales']\n",
    "\n",
    "X_test = df6[df6['date'] >= '2015-06-19']\n",
    "y_test = X_test['sales']"
   ]
  },
  {
   "cell_type": "code",
   "execution_count": 5,
   "id": "d3f3d312",
   "metadata": {},
   "outputs": [],
   "source": [
    "cols_selected_boruta = [\n",
    "    'store',\n",
    "    'promo',\n",
    "    'store_type',\n",
    "    'assortment',\n",
    "    'competition_distance',\n",
    "    'competition_open_since_month',\n",
    "    'competition_open_since_year',\n",
    "    'promo2',\n",
    "    'promo2_since_week',\n",
    "    'promo2_since_year',\n",
    "    'competition_time_month',\n",
    "    'promo_time_week',\n",
    "    'day_of_week_sin',\n",
    "    'day_of_week_cos',\n",
    "    'month_sin',\n",
    "    'month_cos',\n",
    "    'day_sin',\n",
    "    'day_cos',\n",
    "    'week_of_year_cos',\n",
    "    'week_of_year_sin']\n",
    "\n",
    "X_train_incomplete = X_train[cols_selected_boruta]\n",
    "X_test_incomplete = X_test[cols_selected_boruta]"
   ]
  },
  {
   "cell_type": "code",
   "execution_count": 6,
   "id": "3cf512d4",
   "metadata": {},
   "outputs": [],
   "source": [
    "boruta_selection = cols_selected_boruta.copy()\n",
    "boruta_selection.extend(['date','sales'])\n",
    "X_train = df6[boruta_selection]"
   ]
  },
  {
   "cell_type": "markdown",
   "id": "00c51578",
   "metadata": {},
   "source": [
    "### Average Model"
   ]
  },
  {
   "cell_type": "code",
   "execution_count": 7,
   "id": "58bd4b4e",
   "metadata": {
    "scrolled": true
   },
   "outputs": [
    {
     "data": {
      "text/plain": [
       "{'Model name': 'Average Model',\n",
       " 'MAE': 1434.4989793118416,\n",
       " 'MAPE': 0.23131266028042133,\n",
       " 'RMSE': 2759.0457120494457}"
      ]
     },
     "execution_count": 7,
     "metadata": {},
     "output_type": "execute_result"
    }
   ],
   "source": [
    "aux1 = X_test_incomplete.copy()\n",
    "aux1['sales'] = y_test.copy()\n",
    "\n",
    "#predictions\n",
    "aux2 = aux1[['store','sales']].groupby('store').mean().reset_index().rename(columns={'sales':'predictions'})\n",
    "aux1 = pd.merge(aux1, aux2, how='left', on='store')\n",
    "yhat_baseline = aux1['predictions']\n",
    "\n",
    "#performance\n",
    "baseline_result = ml_error('Average Model',y_test, yhat_baseline) #Np.expm1 é utilizado para aplicar exponenciação (que é o oposto de logarítmo) e retornar o Sales ao valor original\n",
    "baseline_result"
   ]
  },
  {
   "cell_type": "markdown",
   "id": "a64d095c",
   "metadata": {},
   "source": [
    "### Linear Regression Model "
   ]
  },
  {
   "cell_type": "code",
   "execution_count": 8,
   "id": "a9d373b6",
   "metadata": {},
   "outputs": [
    {
     "data": {
      "text/plain": [
       "{'Model name': 'Linear Regression',\n",
       " 'MAE': 1858.464486374337,\n",
       " 'MAPE': 0.27998846615313344,\n",
       " 'RMSE': 2667.6584090729243}"
      ]
     },
     "execution_count": 8,
     "metadata": {},
     "output_type": "execute_result"
    }
   ],
   "source": [
    "#model\n",
    "lr = LinearRegression().fit(X_train_incomplete, y_train)\n",
    "\n",
    "#prediction\n",
    "yhat_lr = lr.predict(X_test_incomplete)\n",
    "\n",
    "#perfomance\n",
    "lr_result = ml_error('Linear Regression', y_test, yhat_lr)\n",
    "lr_result"
   ]
  },
  {
   "cell_type": "markdown",
   "id": "0d7bc4a5",
   "metadata": {},
   "source": [
    "### Linear Regression Model - CV"
   ]
  },
  {
   "cell_type": "code",
   "execution_count": 9,
   "id": "c20637fe",
   "metadata": {},
   "outputs": [
    {
     "name": "stdout",
     "output_type": "stream",
     "text": [
      "Start validation on 2015-01-02 00:00:00 and end at 2015-02-13 00:00:00\n",
      "Start validation on 2015-02-13 00:00:00 and end at 2015-03-27 00:00:00\n",
      "Start validation on 2015-03-27 00:00:00 and end at 2015-05-08 00:00:00\n",
      "Start validation on 2015-05-08 00:00:00 and end at 2015-06-19 00:00:00\n",
      "Start validation on 2015-06-19 00:00:00 and end at 2015-07-31 00:00:00\n"
     ]
    },
    {
     "data": {
      "text/plain": [
       "{'Model Name': LinearRegression(),\n",
       " 'MAE CV': '1924.94 +/- 101.7',\n",
       " 'MAPE CV': '0.29 +/- 0.01',\n",
       " 'RMSE CV': '2726.03 +/- 192.73'}"
      ]
     },
     "execution_count": 9,
     "metadata": {},
     "output_type": "execute_result"
    }
   ],
   "source": [
    "model = LinearRegression()\n",
    "lr_result_cv = cross_validation(X_train, 5, model)\n",
    "lr_result_cv"
   ]
  },
  {
   "cell_type": "markdown",
   "id": "4aa59eb7",
   "metadata": {},
   "source": [
    "### Linear Regression Regularized Model - Lasso"
   ]
  },
  {
   "cell_type": "code",
   "execution_count": 10,
   "id": "6682a981",
   "metadata": {},
   "outputs": [
    {
     "data": {
      "text/plain": [
       "{'Model name': 'Linear Regression Lasso',\n",
       " 'MAE': 1885.6576649715582,\n",
       " 'MAPE': 0.2906173375992527,\n",
       " 'RMSE': 2744.8264243233243}"
      ]
     },
     "execution_count": 10,
     "metadata": {},
     "output_type": "execute_result"
    }
   ],
   "source": [
    "#model\n",
    "lrr = Lasso(alpha=0.01).fit(X_train_incomplete, y_train)\n",
    "\n",
    "#prediction\n",
    "yhat_lrr = lrr.predict(X_test_incomplete)\n",
    "\n",
    "#perfomance\n",
    "lrr_result = ml_error('Linear Regression Lasso', y_test, yhat_lrr)\n",
    "lrr_result"
   ]
  },
  {
   "cell_type": "markdown",
   "id": "dfe627c6",
   "metadata": {},
   "source": [
    "### Linear Regression Regularized Model - Lasso - CV"
   ]
  },
  {
   "cell_type": "code",
   "execution_count": 11,
   "id": "31eabcd0",
   "metadata": {},
   "outputs": [
    {
     "name": "stdout",
     "output_type": "stream",
     "text": [
      "Start validation on 2015-01-02 00:00:00 and end at 2015-02-13 00:00:00\n",
      "Start validation on 2015-02-13 00:00:00 and end at 2015-03-27 00:00:00\n",
      "Start validation on 2015-03-27 00:00:00 and end at 2015-05-08 00:00:00\n",
      "Start validation on 2015-05-08 00:00:00 and end at 2015-06-19 00:00:00\n",
      "Start validation on 2015-06-19 00:00:00 and end at 2015-07-31 00:00:00\n"
     ]
    },
    {
     "data": {
      "text/plain": [
       "{'Model Name': Lasso(alpha=0.01),\n",
       " 'MAE CV': '1944.24 +/- 138.18',\n",
       " 'MAPE CV': '0.3 +/- 0.02',\n",
       " 'RMSE CV': '2815.68 +/- 228.13'}"
      ]
     },
     "execution_count": 11,
     "metadata": {},
     "output_type": "execute_result"
    }
   ],
   "source": [
    "model = Lasso(alpha=0.01)\n",
    "lrr_result_cv = cross_validation(X_train, 5, model)\n",
    "lrr_result_cv"
   ]
  },
  {
   "cell_type": "markdown",
   "id": "856e4772",
   "metadata": {},
   "source": [
    "### Random Forest Regressor"
   ]
  },
  {
   "cell_type": "code",
   "execution_count": 12,
   "id": "296f7373",
   "metadata": {},
   "outputs": [
    {
     "data": {
      "text/plain": [
       "{'Model name': 'Random Forest Regressor',\n",
       " 'MAE': 692.1793474050789,\n",
       " 'MAPE': 0.09870067090594907,\n",
       " 'RMSE': 1035.515449573678}"
      ]
     },
     "execution_count": 12,
     "metadata": {},
     "output_type": "execute_result"
    }
   ],
   "source": [
    "##model\n",
    "rf = RandomForestRegressor(n_estimators = 100, n_jobs=-1, random_state=42).fit(X_train_incomplete, y_train)\n",
    "\n",
    "##prediction\n",
    "yhat_rf = rf.predict(X_test_incomplete)\n",
    "#\n",
    "##perfomance\n",
    "rf_result = ml_error('Random Forest Regressor', y_test, yhat_rf)\n",
    "rf_result"
   ]
  },
  {
   "cell_type": "markdown",
   "id": "f7db18a2",
   "metadata": {},
   "source": [
    "### Random Forest Regressor - CV"
   ]
  },
  {
   "cell_type": "code",
   "execution_count": 13,
   "id": "e46487d6",
   "metadata": {},
   "outputs": [
    {
     "name": "stdout",
     "output_type": "stream",
     "text": [
      "Start validation on 2015-01-02 00:00:00 and end at 2015-02-13 00:00:00\n",
      "Start validation on 2015-02-13 00:00:00 and end at 2015-03-27 00:00:00\n",
      "Start validation on 2015-03-27 00:00:00 and end at 2015-05-08 00:00:00\n",
      "Start validation on 2015-05-08 00:00:00 and end at 2015-06-19 00:00:00\n",
      "Start validation on 2015-06-19 00:00:00 and end at 2015-07-31 00:00:00\n"
     ]
    },
    {
     "data": {
      "text/plain": [
       "{'Model Name': RandomForestRegressor(n_jobs=-1, random_state=42),\n",
       " 'MAE CV': '750.06 +/- 113.79',\n",
       " 'MAPE CV': '0.11 +/- 0.02',\n",
       " 'RMSE CV': '1125.17 +/- 178.0'}"
      ]
     },
     "execution_count": 13,
     "metadata": {},
     "output_type": "execute_result"
    }
   ],
   "source": [
    "model = RandomForestRegressor(n_estimators = 100, n_jobs=-1, random_state=42)\n",
    "rf_result_cv = cross_validation(X_train, 5, model)\n",
    "rf_result_cv"
   ]
  },
  {
   "cell_type": "markdown",
   "id": "8aedc447",
   "metadata": {},
   "source": [
    "### XGBoost Regressor"
   ]
  },
  {
   "cell_type": "code",
   "execution_count": 20,
   "id": "d2291f8e",
   "metadata": {
    "scrolled": true
   },
   "outputs": [
    {
     "data": {
      "text/plain": [
       "{'Model name': 'XGBoost Regressor',\n",
       " 'MAE': 6676.870365104163,\n",
       " 'MAPE': 21.002658028221266,\n",
       " 'RMSE': 7328.829194117063}"
      ]
     },
     "execution_count": 20,
     "metadata": {},
     "output_type": "execute_result"
    }
   ],
   "source": [
    "#model\n",
    "model_xgb = xgb.XGBRegressor(objective='reg:squarederror', n_estimators=100, eta=0.01, max_depth=10, subsample=0.7, colsample_bytree=0.9).fit(X_train_incomplete, y_train)\n",
    "\n",
    "#prediction\n",
    "yhat_xgb = model_xgb.predict(X_test_incomplete)\n",
    "\n",
    "#perfomance\n",
    "xgb_result = ml_error('XGBoost Regressor', y_test, yhat_xgb)\n",
    "xgb_result"
   ]
  },
  {
   "cell_type": "markdown",
   "id": "11cffd2e",
   "metadata": {},
   "source": [
    "### XGBoost Regressor - CV"
   ]
  },
  {
   "cell_type": "code",
   "execution_count": 15,
   "id": "ac71c6d0",
   "metadata": {},
   "outputs": [
    {
     "name": "stdout",
     "output_type": "stream",
     "text": [
      "Start validation on 2015-01-02 00:00:00 and end at 2015-02-13 00:00:00\n",
      "Start validation on 2015-02-13 00:00:00 and end at 2015-03-27 00:00:00\n",
      "Start validation on 2015-03-27 00:00:00 and end at 2015-05-08 00:00:00\n",
      "Start validation on 2015-05-08 00:00:00 and end at 2015-06-19 00:00:00\n",
      "Start validation on 2015-06-19 00:00:00 and end at 2015-07-31 00:00:00\n"
     ]
    },
    {
     "data": {
      "text/plain": [
       "{'Model Name': XGBRegressor(base_score=0.5, booster='gbtree', colsample_bylevel=1,\n",
       "              colsample_bynode=1, colsample_bytree=0.9, enable_categorical=False,\n",
       "              eta=0.01, gamma=0, gpu_id=-1, importance_type=None,\n",
       "              interaction_constraints='', learning_rate=0.00999999978,\n",
       "              max_delta_step=0, max_depth=10, min_child_weight=1, missing=nan,\n",
       "              monotone_constraints='()', n_estimators=100, n_jobs=6,\n",
       "              num_parallel_tree=1, predictor='auto', random_state=0, reg_alpha=0,\n",
       "              reg_lambda=1, scale_pos_weight=1, subsample=0.7,\n",
       "              tree_method='exact', validate_parameters=1, verbosity=None),\n",
       " 'MAE CV': '6786.79 +/- 328.63',\n",
       " 'MAPE CV': '21.47 +/- 0.84',\n",
       " 'RMSE CV': '7413.67 +/- 379.84'}"
      ]
     },
     "execution_count": 15,
     "metadata": {},
     "output_type": "execute_result"
    }
   ],
   "source": [
    "model = xgb.XGBRegressor(objective='reg:squarederror', n_estimators=100, eta=0.01, max_depth=10, subsample=0.7, colsample_bytree=0.9)\n",
    "xgb_result_cv = cross_validation(X_train, 5, model)\n",
    "xgb_result_cv"
   ]
  },
  {
   "cell_type": "markdown",
   "id": "58c17558",
   "metadata": {},
   "source": [
    "### Module Comparison"
   ]
  },
  {
   "cell_type": "code",
   "execution_count": 16,
   "id": "3491da91",
   "metadata": {},
   "outputs": [
    {
     "data": {
      "text/html": [
       "<div>\n",
       "<style scoped>\n",
       "    .dataframe tbody tr th:only-of-type {\n",
       "        vertical-align: middle;\n",
       "    }\n",
       "\n",
       "    .dataframe tbody tr th {\n",
       "        vertical-align: top;\n",
       "    }\n",
       "\n",
       "    .dataframe thead th {\n",
       "        text-align: right;\n",
       "    }\n",
       "</style>\n",
       "<table border=\"1\" class=\"dataframe\">\n",
       "  <thead>\n",
       "    <tr style=\"text-align: right;\">\n",
       "      <th></th>\n",
       "      <th>Model name</th>\n",
       "      <th>MAE</th>\n",
       "      <th>MAPE</th>\n",
       "      <th>RMSE</th>\n",
       "    </tr>\n",
       "  </thead>\n",
       "  <tbody>\n",
       "    <tr>\n",
       "      <th>0</th>\n",
       "      <td>Random Forest Regressor</td>\n",
       "      <td>692.179347</td>\n",
       "      <td>0.098701</td>\n",
       "      <td>1035.515450</td>\n",
       "    </tr>\n",
       "    <tr>\n",
       "      <th>0</th>\n",
       "      <td>Linear Regression</td>\n",
       "      <td>1858.464486</td>\n",
       "      <td>0.279988</td>\n",
       "      <td>2667.658409</td>\n",
       "    </tr>\n",
       "    <tr>\n",
       "      <th>0</th>\n",
       "      <td>Linear Regression Lasso</td>\n",
       "      <td>1885.657665</td>\n",
       "      <td>0.290617</td>\n",
       "      <td>2744.826424</td>\n",
       "    </tr>\n",
       "    <tr>\n",
       "      <th>0</th>\n",
       "      <td>Average Model</td>\n",
       "      <td>1434.498979</td>\n",
       "      <td>0.231313</td>\n",
       "      <td>2759.045712</td>\n",
       "    </tr>\n",
       "    <tr>\n",
       "      <th>0</th>\n",
       "      <td>XGBoost Regressor</td>\n",
       "      <td>6676.870365</td>\n",
       "      <td>21.002658</td>\n",
       "      <td>7328.829194</td>\n",
       "    </tr>\n",
       "  </tbody>\n",
       "</table>\n",
       "</div>"
      ],
      "text/plain": [
       "                Model name          MAE       MAPE         RMSE\n",
       "0  Random Forest Regressor   692.179347   0.098701  1035.515450\n",
       "0        Linear Regression  1858.464486   0.279988  2667.658409\n",
       "0  Linear Regression Lasso  1885.657665   0.290617  2744.826424\n",
       "0            Average Model  1434.498979   0.231313  2759.045712\n",
       "0        XGBoost Regressor  6676.870365  21.002658  7328.829194"
      ]
     },
     "execution_count": 16,
     "metadata": {},
     "output_type": "execute_result"
    }
   ],
   "source": [
    "modelling_result = pd.concat([pd.DataFrame([baseline_result]), pd.DataFrame([lr_result]), pd.DataFrame([lrr_result]), pd.DataFrame([rf_result]), pd.DataFrame([xgb_result])])\n",
    "modelling_result.sort_values('RMSE')"
   ]
  },
  {
   "cell_type": "markdown",
   "id": "138932ac",
   "metadata": {},
   "source": [
    "### Module Comparison - CV"
   ]
  },
  {
   "cell_type": "code",
   "execution_count": 17,
   "id": "e774d844",
   "metadata": {},
   "outputs": [
    {
     "data": {
      "text/html": [
       "<div>\n",
       "<style scoped>\n",
       "    .dataframe tbody tr th:only-of-type {\n",
       "        vertical-align: middle;\n",
       "    }\n",
       "\n",
       "    .dataframe tbody tr th {\n",
       "        vertical-align: top;\n",
       "    }\n",
       "\n",
       "    .dataframe thead th {\n",
       "        text-align: right;\n",
       "    }\n",
       "</style>\n",
       "<table border=\"1\" class=\"dataframe\">\n",
       "  <thead>\n",
       "    <tr style=\"text-align: right;\">\n",
       "      <th></th>\n",
       "      <th>Model name</th>\n",
       "      <th>MAE</th>\n",
       "      <th>MAPE</th>\n",
       "      <th>RMSE</th>\n",
       "    </tr>\n",
       "  </thead>\n",
       "  <tbody>\n",
       "    <tr>\n",
       "      <th>0</th>\n",
       "      <td>Random Forest Regressor</td>\n",
       "      <td>692.179347</td>\n",
       "      <td>0.098701</td>\n",
       "      <td>1035.515450</td>\n",
       "    </tr>\n",
       "    <tr>\n",
       "      <th>0</th>\n",
       "      <td>Linear Regression</td>\n",
       "      <td>1858.464486</td>\n",
       "      <td>0.279988</td>\n",
       "      <td>2667.658409</td>\n",
       "    </tr>\n",
       "    <tr>\n",
       "      <th>0</th>\n",
       "      <td>Linear Regression Lasso</td>\n",
       "      <td>1885.657665</td>\n",
       "      <td>0.290617</td>\n",
       "      <td>2744.826424</td>\n",
       "    </tr>\n",
       "    <tr>\n",
       "      <th>0</th>\n",
       "      <td>Average Model</td>\n",
       "      <td>1434.498979</td>\n",
       "      <td>0.231313</td>\n",
       "      <td>2759.045712</td>\n",
       "    </tr>\n",
       "    <tr>\n",
       "      <th>0</th>\n",
       "      <td>XGBoost Regressor</td>\n",
       "      <td>6676.870365</td>\n",
       "      <td>21.002658</td>\n",
       "      <td>7328.829194</td>\n",
       "    </tr>\n",
       "  </tbody>\n",
       "</table>\n",
       "</div>"
      ],
      "text/plain": [
       "                Model name          MAE       MAPE         RMSE\n",
       "0  Random Forest Regressor   692.179347   0.098701  1035.515450\n",
       "0        Linear Regression  1858.464486   0.279988  2667.658409\n",
       "0  Linear Regression Lasso  1885.657665   0.290617  2744.826424\n",
       "0            Average Model  1434.498979   0.231313  2759.045712\n",
       "0        XGBoost Regressor  6676.870365  21.002658  7328.829194"
      ]
     },
     "execution_count": 17,
     "metadata": {},
     "output_type": "execute_result"
    }
   ],
   "source": [
    "modelling_result_cv = pd.concat([pd.DataFrame([lr_result_cv]), pd.DataFrame([lrr_result_cv]), pd.DataFrame([rf_result_cv]), pd.DataFrame([xgb_result_cv])])\n",
    "modelling_result.sort_values('RMSE')"
   ]
  },
  {
   "cell_type": "code",
   "execution_count": null,
   "id": "a6fdf439",
   "metadata": {},
   "outputs": [],
   "source": []
  }
 ],
 "metadata": {
  "kernelspec": {
   "display_name": "Python 3 (ipykernel)",
   "language": "python",
   "name": "python3"
  },
  "language_info": {
   "codemirror_mode": {
    "name": "ipython",
    "version": 3
   },
   "file_extension": ".py",
   "mimetype": "text/x-python",
   "name": "python",
   "nbconvert_exporter": "python",
   "pygments_lexer": "ipython3",
   "version": "3.9.12"
  },
  "varInspector": {
   "cols": {
    "lenName": 16,
    "lenType": 16,
    "lenVar": 40
   },
   "kernels_config": {
    "python": {
     "delete_cmd_postfix": "",
     "delete_cmd_prefix": "del ",
     "library": "var_list.py",
     "varRefreshCmd": "print(var_dic_list())"
    },
    "r": {
     "delete_cmd_postfix": ") ",
     "delete_cmd_prefix": "rm(",
     "library": "var_list.r",
     "varRefreshCmd": "cat(var_dic_list()) "
    }
   },
   "types_to_exclude": [
    "module",
    "function",
    "builtin_function_or_method",
    "instance",
    "_Feature"
   ],
   "window_display": false
  }
 },
 "nbformat": 4,
 "nbformat_minor": 5
}
